{
 "cells": [
  {
   "cell_type": "code",
   "execution_count": 5,
   "id": "bd0d0864-67e2-4ae9-a75e-3802583fbd22",
   "metadata": {
    "editable": true,
    "scrolled": true,
    "slideshow": {
     "slide_type": ""
    },
    "tags": []
   },
   "outputs": [],
   "source": [
    "#include <iostream>\n",
    "#include <vector>\n",
    "\n",
    "int main() {\n",
    "    std::vector<int> data = {1, 2, 3, 4};\n",
    "    int sum = 0;\n",
    "    for (int x : data) sum += x;\n",
    "    std::cout << \"Sum = \" << sum << std::endl;\n",
    "    \n",
    "}\n"
   ]
  },
  {
   "cell_type": "markdown",
   "id": "57cd09c9-3987-4e7b-bfe9-538ccdec8542",
   "metadata": {},
   "source": [
    "## Experiment: Summing Vectors\n",
    "Testing basic C++ execution inside Jupyter."
   ]
  }
 ],
 "metadata": {
  "kernelspec": {
   "display_name": "C++17",
   "language": "C++17",
   "name": "xcpp17"
  },
  "language_info": {
   "codemirror_mode": "text/x-c++src",
   "file_extension": ".cpp",
   "mimetype": "text/x-c++src",
   "name": "c++",
   "version": "17"
  }
 },
 "nbformat": 4,
 "nbformat_minor": 5
}
